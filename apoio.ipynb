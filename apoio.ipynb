{
 "cells": [
  {
   "cell_type": "markdown",
   "metadata": {},
   "source": [
    "<h3>ARIEL</h3>\n",
    "\n"
   ]
  },
  {
   "cell_type": "code",
   "execution_count": null,
   "metadata": {},
   "outputs": [],
   "source": [
    "<form method=\"POST\" action=\"{% url 'cadastrar_personagem' %}\">\n",
    "    {% csrf_token %}\n",
    "    <button class=\"button\" role=\"button\" id=\"save\">Salvar</button>\n",
    "</form>"
   ]
  },
  {
   "cell_type": "markdown",
   "metadata": {},
   "source": [
    "<h3>ANDREY</h3>\n",
    "\n",
    "+ Pesquisar como tratar os dados do Front-End Django\n",
    "    + Pegar os atributos de cada personagem especifico ->  OK\n",
    "+ No metodo post de criar personagem, vai criar linha nas tableas especificadas com seus valores zerados -> OK\n",
    "+ Criar função para facilitar a obtenção de dados do front end para mandar pro banco de dados\n",
    "+ Editar função de pegar todos os atributo para encixar melhor com os planos\n",
    "+ Mandar as informações do base personagem para tela personagem?\n",
    "+ Consertar o elemento na base de personagem (elementodefensivo e ofensivo nao estao sendo diferenciados na hora que envia, qndo consertar, tmb consertar a variavel no backend)"
   ]
  },
  {
   "cell_type": "code",
   "execution_count": null,
   "metadata": {},
   "outputs": [],
   "source": [
    "from math import floor\n",
    "# from lib.arsenalatt import Elementos, Atributos\n",
    "\n",
    "def somaTodosAtt(escolha, atributo, conjuntoarmadura, conjuntoacessorio, armasequipadas, conjmaestrias, missoes, bencaodivina, cla, grim, raca, bufint, bufext, habilidade): #fara a soma de todos os atributos escolhidos\n",
    "    att = atributo.pegaValor(escolha)\n",
    "    equip = conjuntoarmadura.somarEquip(escolha)\n",
    "    ace = conjuntoacessorio.somarAces(escolha)\n",
    "    arma = armasequipadas.somarArmaAtt(escolha)\n",
    "    maes = conjmaestrias.somarMaes('f', escolha)\n",
    "    maesb = conjmaestrias.somarMaes('p', escolha)\n",
    "    mis = missoes.att.pegaValor(escolha)\n",
    "    bencdiv = bencaodivina.attp.pegaValor(escolha)\n",
    "    clanf = cla.att.pegaValor(escolha)\n",
    "    clanp = cla.attp.pegaValor(escolha)\n",
    "    gri = grim.attp.pegaValor(escolha)\n",
    "    ra = raca.attp.pegaValor(escolha) \n",
    "    bip = bufint.attp.pegaValor(escolha) \n",
    "    bef = bufext.att.pegaValor(escolha) \n",
    "    bep = bufext.attp.pegaValor(escolha)\n",
    "    habf = habilidade.att.pegaValor(escolha)\n",
    "    habp = habilidade.attp.pegaValor(escolha)\n",
    "    resultado = []\n",
    "\n",
    "    soma1 = att + equip + ace + arma + mis + maes + clanf + habf\n",
    "    soma2 = soma1 + soma1 * (maesb + clanp + bencdiv + ra + gri + habp) / 100\n",
    "    if bip > 0:  # se houver algum tipo de buff interno\n",
    "        bep = floor(bep / 2)\n",
    "        bef = floor(bef / 2)\n",
    "    resultado.append(soma2 + soma2 * (bip + bep) / 100) \n",
    "    resultado.append(soma2 + soma2 * bip / 100 + bef) \n",
    "\n",
    "    return floor(max(resultado))"
   ]
  }
 ],
 "metadata": {
  "language_info": {
   "name": "python"
  }
 },
 "nbformat": 4,
 "nbformat_minor": 2
}
