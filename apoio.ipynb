{
 "cells": [
  {
   "cell_type": "markdown",
   "metadata": {},
   "source": [
    "<h3>ARIEL</h3>\n",
    "\n",
    "* Criar as telas e configurar o Banco de Dados:\n",
    "    + Tela Inicial → Será utilizada a informação Geral ou então uma seleção completa de todos persoangens registrado. OK\n",
    "    + Tela das Informações Gerais → OK\n",
    "    + Tela de Cadastro → OK\n",
    "        * Fazer a criação das telas dos equipamentos internamente.\n",
    "    + Tela de Conjunto → OK\n",
    "    + Tela de Arma → OK\n",
    "        * Fazer a criação das telas dos equipamentos internamente.\n",
    "    + Tela de Raça/Titulo/Benção → OK\n",
    "    + Tela de Acessórios → OK\n",
    "        * Fazer a criação das telas dos equipamentos internamente.\n",
    "    + Tela de Habilidade → OK"
   ]
  },
  {
   "cell_type": "markdown",
   "metadata": {},
   "source": [
    "<h3>ANDREY</h3>\n",
    "\n",
    "+ Pesquisar como tratar os dados do Front-End Django\n",
    "    + Pegar os atributos de cada personagem especifico ->  OK\n"
   ]
  }
 ],
 "metadata": {
  "language_info": {
   "name": "python"
  }
 },
 "nbformat": 4,
 "nbformat_minor": 2
}
