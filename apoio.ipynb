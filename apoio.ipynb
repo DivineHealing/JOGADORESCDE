{
 "cells": [
  {
   "cell_type": "markdown",
   "metadata": {},
   "source": [
    "<h3>ARIEL</h3>\n",
    "\n",
    "* Criar as telas de Cadastro e o Alerta com o Input com Nome."
   ]
  },
  {
   "cell_type": "code",
   "execution_count": null,
   "metadata": {
    "vscode": {
     "languageId": "html"
    }
   },
   "outputs": [],
   "source": [
    "<div class='efeito-row-container'>\n",
    "    <div class='efeito-row-miniContainer'>\n",
    "        <label for=\"efeitoTipo${efeitosCount}\">Tipo do Efeito</label>\n",
    "        <select class='personagem_select' id=\"efeitoTipo${efeitosCount}\" name=\"efeitoTipo${efeitosCount}\">\n",
    "            <option value=\"efeitoPassivo\" selected> Efeito Passivo</option>\n",
    "            <option value=\"efeitoAtivo\"> Efeito Ativo</option>\n",
    "            <option value=\"efeitoAura\"> Efeito Aura</option>\n",
    "        </select>\n",
    "        <label for=\"efeitoTipo${efeitosCount}\">Tipo do Efeito</label>\n",
    "        <select class='personagem_select' id=\"efeitoTipo${efeitosCount}\" name=\"efeitoTipo${efeitosCount}\">\n",
    "            <option value=\"efeitoPassivo\" selected> Efeito Passivo</option>\n",
    "            <option value=\"nivel2\">Nível 1</option>\n",
    "            <option value=\"nivel3\">Nível 3</option>\n",
    "            <option value=\"nivel4\">Nível 4</option>\n",
    "            <option value=\"nivel5\">Nível 5</option>\n",
    "            <option value=\"nivel6\">Nível 6</option>\n",
    "        </select>\n",
    "    </div>\n",
    "    <div>\n",
    "        <label for=\"efeitoNome${efeitosCount}\">Nome do Efeito:</label>\n",
    "        <input style=\"width: 100%\"; type=\"text\" id=\"efeitoNome${efeitosCount}\" name=\"efeitoNome${efeitosCount}\" placeholder=\"Nome do efeito\">\n",
    "        <label for=\"efeitoCusto${efeitosCount}\">Custo do Efeito:</label>\n",
    "        <input style=\"width: 50%\"; type=\"text\" id=\"efeitoCusto${efeitosCount}\" name=\"efeitoCusto${efeitosCount}\" placeholder=\"Custo do efeito\">\n",
    "    </div class='efeito-row-miniContainer'>\n",
    "    <div class='efeito-row-miniContainer'>\n",
    "        <label for=\"efeitoDesc${efeitosCount}\">Descrição do Efeito:</label>\n",
    "        <textarea style=\"width: 100%; height: 10em; wrap: \"hard\"\"; type=\"text\" id=\"efeitoDesc${efeitosCount}\" name=\"efeitoDesc${efeitosCount}\" placeholder=\"Descrição do Efeito\"></textarea>\n",
    "    </div>\n",
    "</div>"
   ]
  },
  {
   "cell_type": "markdown",
   "metadata": {},
   "source": [
    "<h3>ANDREY</h3>\n",
    "\n",
    "+ Pesquisar como tratar os dados do Front-End Django\n",
    "    + Pegar os atributos de cada personagem especifico ->  OK\n"
   ]
  },
  {
   "cell_type": "code",
   "execution_count": null,
   "metadata": {},
   "outputs": [],
   "source": [
    "# from math import floor\n",
    "# from lib.arsenalatt import Elementos, Atributos\n",
    "\n",
    "def somaTodosAtt(escolha, atributo, conjuntoarmadura, conjuntoacessorio, armasequipadas, conjmaestrias, missoes, bencaodivina, cla, grim, raca, bufint, bufext, habilidade): #fara a soma de todos os atributos escolhidos\n",
    "    att = atributo.pegaValor(escolha)\n",
    "    equip = conjuntoarmadura.somarEquip(escolha)\n",
    "    ace = conjuntoacessorio.somarAces(escolha)\n",
    "    arma = armasequipadas.somarArmaAtt(escolha)\n",
    "    maes = conjmaestrias.somarMaes('f', escolha)\n",
    "    maesb = conjmaestrias.somarMaes('p', escolha)\n",
    "    mis = missoes.att.pegaValor(escolha)\n",
    "    bencdiv = bencaodivina.attp.pegaValor(escolha)\n",
    "    clanf = cla.att.pegaValor(escolha)\n",
    "    clanp = cla.attp.pegaValor(escolha)\n",
    "    gri = grim.attp.pegaValor(escolha)\n",
    "    ra = raca.attp.pegaValor(escolha) \n",
    "    bip = bufint.attp.pegaValor(escolha) \n",
    "    bef = bufext.att.pegaValor(escolha) \n",
    "    bep = bufext.attp.pegaValor(escolha)\n",
    "    habf = habilidade.att.pegaValor(escolha)\n",
    "    habp = habilidade.attp.pegaValor(escolha)\n",
    "    resultado = []\n",
    "\n",
    "    soma1 = att + equip + ace + arma + mis + maes + clanf + habf\n",
    "    soma2 = soma1 + soma1 * (maesb + clanp + bencdiv + ra + gri + habp) / 100\n",
    "    if bip > 0:  # se houver algum tipo de buff interno\n",
    "        bep = floor(bep / 2)\n",
    "        bef = floor(bef / 2)\n",
    "    resultado.append(soma2 + soma2 * (bip + bep) / 100) \n",
    "    resultado.append(soma2 + soma2 * bip / 100 + bef) \n",
    "\n",
    "    return floor(max(resultado))"
   ]
  }
 ],
 "metadata": {
  "language_info": {
   "name": "python"
  }
 },
 "nbformat": 4,
 "nbformat_minor": 2
}
